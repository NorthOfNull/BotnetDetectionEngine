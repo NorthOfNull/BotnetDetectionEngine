{
 "cells": [
  {
   "cell_type": "code",
   "execution_count": 12,
   "metadata": {
    "ExecuteTime": {
     "end_time": "2020-04-02T05:35:05.661055Z",
     "start_time": "2020-04-02T05:35:05.653077Z"
    }
   },
   "outputs": [],
   "source": [
    "'''\n",
    "'''\n",
    "class Model:\n",
    "    '''\n",
    "    '''\n",
    "    def load_model(self):\n",
    "\n",
    "\n",
    "        return 0\n",
    "\n",
    "\n",
    "    '''\n",
    "    Gets the model's specific data from the json data file.\n",
    "    '''\n",
    "    def get_data(data = None):\n",
    "        status = False\n",
    "        \n",
    "        if(data != None):\n",
    "            status = True\n",
    "\n",
    "        return status"
   ]
  },
  {
   "cell_type": "code",
   "execution_count": 15,
   "metadata": {
    "ExecuteTime": {
     "end_time": "2020-04-02T05:36:05.545303Z",
     "start_time": "2020-04-02T05:36:05.535332Z"
    }
   },
   "outputs": [
    {
     "name": "stderr",
     "output_type": "stream",
     "text": [
      "..\n",
      "----------------------------------------------------------------------\n",
      "Ran 2 tests in 0.002s\n",
      "\n",
      "OK\n"
     ]
    }
   ],
   "source": [
    "import unittest\n",
    "\n",
    "class Test_Model_Get_Data(unittest.TestCase):\n",
    "    def test_no_data(self):\n",
    "        result = Model.get_data()\n",
    "        self.assertFalse(result)\n",
    "        \n",
    "    def test_with_data(self):\n",
    "        result = Model.get_data(\"Test\")\n",
    "        self.assertTrue(result)\n",
    "\n",
    "if __name__ == '__main__':\n",
    "    unittest.main(argv=['first-arg-is-ignored'], exit=False)"
   ]
  },
  {
   "cell_type": "code",
   "execution_count": null,
   "metadata": {},
   "outputs": [],
   "source": []
  },
  {
   "cell_type": "code",
   "execution_count": null,
   "metadata": {},
   "outputs": [],
   "source": []
  }
 ],
 "metadata": {
  "kernelspec": {
   "display_name": "Python 3",
   "language": "python",
   "name": "python3"
  },
  "language_info": {
   "codemirror_mode": {
    "name": "ipython",
    "version": 3
   },
   "file_extension": ".py",
   "mimetype": "text/x-python",
   "name": "python",
   "nbconvert_exporter": "python",
   "pygments_lexer": "ipython3",
   "version": "3.7.4"
  }
 },
 "nbformat": 4,
 "nbformat_minor": 2
}
